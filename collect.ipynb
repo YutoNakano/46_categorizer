{
 "cells": [
  {
   "cell_type": "markdown",
   "metadata": {},
   "source": [
    "#一括でファイル名変更"
   ]
  },
  {
   "cell_type": "code",
   "execution_count": 1,
   "metadata": {},
   "outputs": [],
   "source": [
    "import glob\n",
    "import os\n",
    "\n",
    "path = \"images/gana2\"\n",
    "files = glob.glob(path + '/*')\n",
    "\n",
    "for f in files:\n",
    "    # os.renameはディレクトリ名、ファイル名を変更できるメソッド\n",
    "    os.rename(f, os.path.join(path, 'gana2_' + os.path.basename(f)))\n"
   ]
  },
  {
   "cell_type": "code",
   "execution_count": 2,
   "metadata": {},
   "outputs": [],
   "source": [
    "path = \"images/gana3\"\n",
    "files = glob.glob(path + '/*')\n",
    "\n",
    "for f in files:\n",
    "    # os.renameはディレクトリ名、ファイル名を変更できるメソッド\n",
    "    os.rename(f, os.path.join(path, 'gana3_' + os.path.basename(f)))"
   ]
  },
  {
   "cell_type": "markdown",
   "metadata": {},
   "source": [
    "#ファイル移動"
   ]
  },
  {
   "cell_type": "code",
   "execution_count": 3,
   "metadata": {},
   "outputs": [],
   "source": [
    "import os\n",
    "import  shutil\n",
    "\n",
    "src_dir = 'images/gana2'\n",
    "dst_dir = 'images/hiragana'\n",
    "\n",
    "for p in os.listdir(src_dir):\n",
    "    shutil.move(os.path.join(src_dir, p), dst_dir)"
   ]
  },
  {
   "cell_type": "code",
   "execution_count": 4,
   "metadata": {},
   "outputs": [],
   "source": [
    "\n",
    "src_dir = 'images/gana3'\n",
    "dst_dir = 'images/hiragana'\n",
    "\n",
    "for p in os.listdir(src_dir):\n",
    "    shutil.move(os.path.join(src_dir, p), dst_dir)"
   ]
  },
  {
   "cell_type": "code",
   "execution_count": null,
   "metadata": {},
   "outputs": [],
   "source": []
  },
  {
   "cell_type": "markdown",
   "metadata": {},
   "source": [
    "＃やったこと\n",
    "ファイル名変更しないと名前被って保存できない別ディレクトリに一旦保存してあとで一つにまとめるを３回"
   ]
  }
 ],
 "metadata": {
  "kernelspec": {
   "display_name": "Python 3",
   "language": "python",
   "name": "python3"
  },
  "language_info": {
   "codemirror_mode": {
    "name": "ipython",
    "version": 3
   },
   "file_extension": ".py",
   "mimetype": "text/x-python",
   "name": "python",
   "nbconvert_exporter": "python",
   "pygments_lexer": "ipython3",
   "version": "3.7.1"
  }
 },
 "nbformat": 4,
 "nbformat_minor": 2
}
